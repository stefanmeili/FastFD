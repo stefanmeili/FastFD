{
 "cells": [
  {
   "cell_type": "markdown",
   "id": "funded-world",
   "metadata": {},
   "source": [
    "# Steady State Heat Conduction Through Multiple Domains\n",
    "\n",
    "This notebook explains how to set up a simple problem with several connected domains using steady state thermal conduction through three connected domains as an example. \n",
    "\n",
    "![Problem Sketch](./heat_conduction_sketch.svg \"Problem Sketch\")\n",
    "\n",
    "To do this, the heat equation is solved for each domain:\n",
    "\n",
    "$$\n",
    "k \\left(\\frac{\\partial^2 T}{\\partial x^2} + \\frac{\\partial^2 T}{\\partial y^2} \\right) = 0 \n",
    "$$\n",
    "\n",
    "Several boundary conditions need to be satisfied:\n",
    " * An adiabatic boundary at x=0 is defined as: $\\frac{\\partial T_{x=0}}{\\partial x} = 0$\n",
    " * An isothermal boundary setting y=0 to 100C is defined as: $T_{y=0} = 100$\n",
    " * To connect two boundaries, temperature and flux are equal: $Ta_{x=-1} -Tb_{x=0} = 0$ and $\\frac{\\partial Ta_{x=-1}}{\\partial x} - \\frac{\\partial Tb_{x=0}}{\\partial x} = 0$"
   ]
  },
  {
   "cell_type": "code",
   "execution_count": null,
   "id": "creative-sucking",
   "metadata": {},
   "outputs": [],
   "source": [
    "import fastfd as ffd\n",
    "ffd.sparse_lib('scipy')"
   ]
  },
  {
   "cell_type": "code",
   "execution_count": null,
   "id": "identical-telephone",
   "metadata": {},
   "outputs": [],
   "source": [
    "# Define linear axes to set grid resolution in each dimension of the model\n",
    "x_a = ffd.LinearAxis('x', start = 0, stop = 0.5, num = 51)\n",
    "x_b = ffd.LinearAxis('x', start = 0.5, stop = 0.7, num = 21)\n",
    "x_c = ffd.LinearAxis('x', start = 0.7, stop = 1.2, num = 51)\n",
    "y = ffd.LinearAxis('y', start = 0, stop = 1, num = 101)\n",
    "\n",
    "# Define scalars\n",
    "# Axis names must be unique to each Scalar, but can be reused in different scalars.\n",
    "# Default approximation accuracy can be set at the scalar level, or for individual derivitive calls\n",
    "T_a = ffd.Scalar('T_a', [x_a, y], accuracy = 4)\n",
    "T_b = ffd.Scalar('T_b', [x_b, y], accuracy = 4)\n",
    "T_c = ffd.Scalar('T_c', [x_c, y], accuracy = 4)\n",
    "\n",
    "model = ffd.FDModel([T_a, T_b, T_c])"
   ]
  },
  {
   "cell_type": "code",
   "execution_count": null,
   "id": "passing-synthetic",
   "metadata": {},
   "outputs": [],
   "source": [
    "# Thermal Conductivity of domains a, b, and c\n",
    "k_a = 3\n",
    "k_b = 0.5\n",
    "k_c = 1\n",
    "\n",
    "# Set model governing equations (thermal diffusion)\n",
    "# Equations are specied as a dictionary:\n",
    "#     {'Key', (coefficient matrix, constraint vector)}\n",
    "model.update_equations({\n",
    "    'Cond A': (k_a * (T_a.d('x', 2) + T_a.d('y', 2)),\n",
    "               0),\n",
    "    'Cond B': (k_b * (T_b.d('x', 2) + T_b.d('y', 2)),\n",
    "               0),\n",
    "    'Cond C': (k_c * (T_c.d('x', 2) + T_c.d('y', 2)),\n",
    "               0),\n",
    "})\n",
    "\n",
    "# Set model boundary conditions\n",
    "# Boundary conditions are specied as a dictionary with format:\n",
    "#     {'Key', (mask, coefficient matrix, constraint vector)}\n",
    "    \n",
    "# Masks must be Scalar identites. Slices can be used selectively apply boundary conditions. Each\n",
    "# mask and coefficient matrix must have the same shape.\n",
    "model.update_bocos({\n",
    "    'Ta(x=0) adiabatic': (T_a.i[0, :], T_a.d('x')[0, :], 0),\n",
    "    'Ta(y=-1) adiabatic': (T_a.i[:, -1], T_a.d('y')[:, -1], 0),\n",
    "    'Ta(y=0) temp': (T_a.i[:, 0], T_a.i[:, 0], 100),\n",
    "    \n",
    "    'Tb(y=0) adiabatic': (T_b.i[:, 0], T_b.d('y')[:, 0], 0),\n",
    "    'Tb(y=-1) adiabatic': (T_b.i[:, -1], T_b.d('y')[:, -1], 0),\n",
    "    \n",
    "    'Tc(x=-1) adiabatic': (T_c.i[-1, :], T_c.d('x')[-1, :], 0),\n",
    "    'Tc(y=0) adiabatic': (T_c.i[:, 0], T_c.d('y')[:, 0], 0),\n",
    "    'Tc(y=-1) temp': (T_c.i[:, -1], T_c.i[:, -1], 200),\n",
    "    \n",
    "    '=flux Ta(x=-1) Tb(x=0)': (T_a.i[-1, :], k_a * T_a.d('x')[-1, :] - k_b * T_b.d('x')[0, :], 0),\n",
    "    '= Ta(x=-1) Tb(x=0)': (T_b.i[0, :], T_a.i[-1, :] - T_b.i[0, :], 0),\n",
    "    \n",
    "    '=flux Tb(x=-1) Tc(x=0)': (T_c.i[0, :], k_b * T_b.d('x')[-1, :] - k_c * T_c.d('x')[0, :], 0),\n",
    "    '= Tb(x=-1) Tc(x=0)': (T_b.i[-1, :], T_b.i[-1, :] - T_c.i[0, :], 0),\n",
    "})\n",
    "\n",
    "# Solve the model\n",
    "result = model.solve()"
   ]
  },
  {
   "cell_type": "code",
   "execution_count": null,
   "id": "advanced-advertiser",
   "metadata": {},
   "outputs": [],
   "source": [
    "# Plot Results\n",
    "import numpy as np\n",
    "import holoviews as hv\n",
    "hv.extension('bokeh')\n",
    "\n",
    "Image = hv.Image(\n",
    "    np.hstack([result['T_a'].T, result['T_b'][1:-1,:].T, result['T_c'].T])[::-1,:],\n",
    "    bounds = (0, 0, 1.2, 1)\n",
    ").opts(\n",
    "    cmap = 'CMRmap',\n",
    "    colorbar = True)\n",
    "\n",
    "hv.Overlay([\n",
    "    Image,\n",
    "    hv.operation.contours(Image, levels = 15).opts(cmap = 'gray_r'),\n",
    "    hv.Curve(((0.5, 0.5), (0, 1))).opts(color = 'k'),\n",
    "    hv.Curve(((0.7, 0.7), (0, 1))).opts(color = 'k'),\n",
    "]).opts(\n",
    "    width = 700, height = 600,\n",
    "    show_legend = False\n",
    ")"
   ]
  }
 ],
 "metadata": {
  "hide_input": false,
  "kernelspec": {
   "display_name": "Python 3",
   "language": "python",
   "name": "python3"
  },
  "language_info": {
   "codemirror_mode": {
    "name": "ipython",
    "version": 3
   },
   "file_extension": ".py",
   "mimetype": "text/x-python",
   "name": "python",
   "nbconvert_exporter": "python",
   "pygments_lexer": "ipython3",
   "version": "3.9.4"
  }
 },
 "nbformat": 4,
 "nbformat_minor": 5
}
