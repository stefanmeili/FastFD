{
 "cells": [
  {
   "cell_type": "markdown",
   "id": "palestinian-drink",
   "metadata": {},
   "source": [
    "# Waves Approaching a Shoreline"
   ]
  },
  {
   "cell_type": "code",
   "execution_count": null,
   "id": "prostate-riverside",
   "metadata": {},
   "outputs": [],
   "source": [
    "import fastfd as ffd\n",
    "ffd.sparse_lib('scipy')\n",
    "\n",
    "import holoviews as hv\n",
    "hv.extension('bokeh')\n",
    "\n",
    "import numpy as np\n",
    "import time"
   ]
  },
  {
   "cell_type": "code",
   "execution_count": null,
   "id": "understood-shell",
   "metadata": {},
   "outputs": [],
   "source": [
    "length = 50 # wave length\n",
    "amplitude = 1.25 # wave amplitude\n",
    "spatial_acc = 6 # spacial derivative accuracy\n",
    "time_acc = 2 # time derivative accuracy\n",
    "timestep = 0.1 # timestep\n",
    "\n",
    "g = 9.81 # gravitational constant\n",
    "\n",
    "# correlations for wave velocity vs bottom depth\n",
    "transition_speed = lambda l, d: np.sqrt(g * l / (2 * np.pi) * np.tanh(2 * np.pi * d / l))\n",
    "shallow_speed = lambda d: np.sqrt(g/d)\n",
    "wave_speed = lambda l, d: np.maximum(transition_speed(l, d), shallow_speed(d))"
   ]
  },
  {
   "cell_type": "code",
   "execution_count": null,
   "id": "isolated-blade",
   "metadata": {},
   "outputs": [],
   "source": [
    "# model definition\n",
    "x = ffd.LinearAxis('x', start = 0, stop = 500, num = 201)\n",
    "y = ffd.LinearAxis('y', start = 0, stop = 500, num = 201)\n",
    "\n",
    "u = ffd.Scalar('u', [x, y], accuracy = 4)\n",
    "\n",
    "model = ffd.FDModel([u], timestep = timestep)"
   ]
  },
  {
   "cell_type": "code",
   "execution_count": null,
   "id": "velvet-vessel",
   "metadata": {},
   "outputs": [],
   "source": [
    "# define the depth of the bottom\n",
    "def depth_model(x_, y_):\n",
    "    x_bottom = -(x_ * x.delta - 250) / 100\n",
    "    bottom = (x_bottom / np.sqrt(1 + x_bottom**2) + 1) * 5\n",
    "    \n",
    "    bump_1_x = (x_ * x.delta - 150) / 150\n",
    "    bump_1_y = (y_ * y.delta - 150) / 150\n",
    "    bump_1_r = np.sqrt(bump_1_x**2 + bump_1_y**2)\n",
    "    bump_1 = -4 * (bump_1_r**2 + 1)**(-3/2)\n",
    "    \n",
    "    bump_2_x = (x_ * x.delta - 250) / 100\n",
    "    bump_2_y = (y_ * y.delta - 325) / 100\n",
    "    bump_2_r = np.sqrt(bump_2_x**2 + bump_2_y**2)\n",
    "    bump_2 = -3.3 * (bump_2_r**2 + 1)**(-3/2)\n",
    "    \n",
    "    hole_x = (x_ * x.delta - 350) / 100\n",
    "    hole_y = (y_ * y.delta - 225) / 100\n",
    "    hole_r = np.sqrt(hole_x**2 + hole_y**2 - hole_x *hole_y )\n",
    "    hole = 2 * (hole_r**2 + 1)**(-3/2)\n",
    "    \n",
    "    return bottom + bump_1 + bump_2 + hole"
   ]
  },
  {
   "cell_type": "code",
   "execution_count": null,
   "id": "decent-boulder",
   "metadata": {},
   "outputs": [],
   "source": [
    "# plot shoreline depth and wave velocity\n",
    "depth = np.fromfunction(depth_model, (x.num_points, y.num_points))\n",
    "velocity = wave_speed(length, depth)\n",
    "\n",
    "depth_plot = hv.Image(\n",
    "    depth[:, ::-1].T,\n",
    "    bounds = (0, 0, 500 ,500)\n",
    ").opts(\n",
    "    width = 450, height = 425,\n",
    "    tools = ['hover'], colorbar = True,\n",
    "    title = ('Depth (m)')\n",
    ")\n",
    "\n",
    "depth_contours = hv.operation.contours(depth_plot).opts(cmap = 'greys_r', alpha = 0.5)\n",
    "\n",
    "velocity_plot = hv.Image(\n",
    "    velocity[:, ::-1].T,\n",
    "    bounds = (0, 0, 500 ,500)\n",
    ").opts(\n",
    "    cmap = 'hot',\n",
    "    width = 450, height = 425,\n",
    "    tools = ['hover'], colorbar = True,\n",
    "    title = ('Wave Velocity (m/s)')\n",
    ")\n",
    "\n",
    "velocity_contours = hv.operation.contours(velocity_plot).opts(cmap = 'greys', alpha = 0.5)\n",
    "\n",
    "hv.Layout([\n",
    "    hv.Overlay([depth_plot, depth_contours]).opts(show_legend = False),\n",
    "    hv.Overlay([velocity_plot, velocity_contours]).opts(show_legend = False)\n",
    "]).opts(shared_axes = False)"
   ]
  },
  {
   "cell_type": "code",
   "execution_count": null,
   "id": "whole-stroke",
   "metadata": {},
   "outputs": [],
   "source": [
    "# calculate average velocity at x=0 and wave period \n",
    "vel_avg = velocity[0].mean()\n",
    "period = length / vel_avg\n",
    "period"
   ]
  },
  {
   "cell_type": "code",
   "execution_count": null,
   "id": "approved-genre",
   "metadata": {},
   "outputs": [],
   "source": [
    "# define model governing equations (wave equation in 2D)\n",
    "model.update_equations({\n",
    "    'u': (velocity.ravel()**2 * (u.d('x', derivative = 2) + u.d('y', derivative = 2)) \\\n",
    "          - u.dt('lhs', derivative = 2, accuracy = time_acc),\n",
    "          None),\n",
    "})\n",
    "\n",
    "# apply some boundary condiditons\n",
    "model.update_bocos({\n",
    "    'ocean': (u.i[0, :], u.i[0, :], None),\n",
    "    'shore': (u.i[-1, :], u.d('x')[-1, :], 0),\n",
    "    'edges': (u.i[:, [0,-1]], u.d('y')[:, [0,-1]], 0), # Not ideal - should be absorptive\n",
    "})\n",
    "\n",
    "# precalculate transient rhs terms to minimize loop overhead\n",
    "dt_const = u.dt('rhs', derivative = 2, accuracy = time_acc)\n",
    "\n",
    "# model iteration updates\n",
    "def update_timestep(u0, t):\n",
    "    model.update_equations({\n",
    "        'u': (None, dt_const * u0.ravel()),\n",
    "    })\n",
    "\n",
    "    model.update_bocos({\n",
    "        'ocean': (None, None, amplitude * np.sin(2 * np.pi * t / period))\n",
    "    })\n",
    "    \n",
    "    return model.solve()"
   ]
  },
  {
   "cell_type": "code",
   "execution_count": null,
   "id": "attended-registration",
   "metadata": {
    "scrolled": true
   },
   "outputs": [],
   "source": [
    "# solve the transient simulation\n",
    "soln_time = 160\n",
    "iterations = int(soln_time / model.timestep) + 1\n",
    "record_interval = 10\n",
    "\n",
    "# initialize\n",
    "u0 = np.zeros((x.num_points, y.num_points, time_acc + 1))\n",
    "\n",
    "# Run the simulation. This may take some time...\n",
    "start = time.perf_counter()\n",
    "result = []\n",
    "for i in range(iterations):\n",
    "    t = i * model.timestep\n",
    "    res = update_timestep(u0, t)['u']\n",
    "    \n",
    "    avg_time = (time.perf_counter() - start) / (i + 1)\n",
    "    \n",
    "    print('\\r', f'iteration: {i}    sim_time: {i * model.timestep:0.2f}s    max_val: {res.max():0.2f}   time/iter: {avg_time:0.4f}s    ETA: {avg_time * (iterations - i) / 60:0.2f}min', end='')\n",
    "    \n",
    "    if i%record_interval==0:\n",
    "        result.append(res)\n",
    "        \n",
    "    # update the time history\n",
    "    u0 = np.dstack([u0[:,:,1:], res])"
   ]
  },
  {
   "cell_type": "code",
   "execution_count": null,
   "id": "superior-illustration",
   "metadata": {
    "scrolled": false
   },
   "outputs": [],
   "source": [
    "# plot some results!\n",
    "hv.output(widget_location='bottom')\n",
    "\n",
    "hv.HoloMap({\n",
    "    i * model.timestep * record_interval: hv.Image(\n",
    "        res[:, ::-1].T,\n",
    "        bounds = (0, 0, 500 ,500)\n",
    "    ).opts(\n",
    "        cmap = 'Blues_r',\n",
    "        tools = ['hover'], colorbar = True,\n",
    "    )\n",
    "    for i, res in enumerate(result)\n",
    "}, kdims = 'Time (s)').opts(\n",
    "    width = 800, height = 800,\n",
    "    tools = ['hover'], show_grid = True,\n",
    "    xlabel = 'x (m)', ylabel = 'Amplitude (m)'\n",
    "\n",
    ")"
   ]
  }
 ],
 "metadata": {
  "hide_input": false,
  "kernelspec": {
   "display_name": "Python 3",
   "language": "python",
   "name": "python3"
  },
  "language_info": {
   "codemirror_mode": {
    "name": "ipython",
    "version": 3
   },
   "file_extension": ".py",
   "mimetype": "text/x-python",
   "name": "python",
   "nbconvert_exporter": "python",
   "pygments_lexer": "ipython3",
   "version": "3.8.5"
  }
 },
 "nbformat": 4,
 "nbformat_minor": 5
}
